{
 "cells": [
  {
   "cell_type": "code",
   "execution_count": 1,
   "metadata": {},
   "outputs": [],
   "source": [
    "import time\n",
    "from datetime import timedelta\n",
    "\n",
    "import torch as tt\n",
    "from torch.utils.data import DataLoader\n",
    "from epnl import model, tasks, embedding, data\n",
    "\n",
    "import pandas as pd\n",
    "\n",
    "import matplotlib.pyplot as plt\n",
    "\n",
    "import os.path as op"
   ]
  },
  {
   "cell_type": "code",
   "execution_count": 5,
   "metadata": {},
   "outputs": [],
   "source": [
    "def setup_test(task, classes, file, embedder):\n",
    "    embedder = embedding.embedder_from_str(embedder)\n",
    "    \n",
    "    task = tasks.EdgeProbingTask(task, classes, embedder=embedder)\n",
    "\n",
    "    infer_model = model.EdgeProbingModel(task, embedder)\n",
    "    infer_model.load_state_dict(tt.load(op.join(\"epnl/output/\", file)))\n",
    "    infer_model.eval()\n",
    "    \n",
    "    data_test = task.get_data(tasks.Task.TEST)\n",
    "    loader_test = DataLoader(data_test, batch_size=32, shuffle=False, num_workers=4)\n",
    "\n",
    "    start_time = time.time()\n",
    "\n",
    "    rates = {\"tp\": 0, \"tn\": 0, \"fp\": 0, \"fn\": 0}\n",
    "\n",
    "    print(f\"Validating task {task.get_name()}\")\n",
    "\n",
    "    with tt.no_grad():\n",
    "        for i_batch, batch in enumerate(loader_test):\n",
    "            outputs = infer_model(batch)\n",
    "\n",
    "            tp, tn, fp, fn = outputs[\"rates\"]\n",
    "            rates[\"tp\"] += tp\n",
    "            rates[\"tn\"] += tn\n",
    "            rates[\"fp\"] += fp\n",
    "            rates[\"fn\"] += fn\n",
    "\n",
    "    metrics = {\n",
    "        \"f1\": model.get_metric(rates, \"f1\"),\n",
    "        \"acc\": model.get_metric(rates, \"acc\")\n",
    "    }\n",
    "\n",
    "    print(f\"Test {task} with {embedder} [{timedelta(seconds=time.time() - start_time)}]\")\n",
    "    print(f\"\\t{' '.join([f'{m} {round(metrics[m], 4)}' for m in metrics])}\")"
   ]
  },
  {
   "cell_type": "markdown",
   "metadata": {},
   "source": [
    "## TroFi"
   ]
  },
  {
   "cell_type": "code",
   "execution_count": 6,
   "metadata": {},
   "outputs": [
    {
     "name": "stdout",
     "output_type": "stream",
     "text": [
      "Validating task trofi\n",
      "Test EdgeProbingTask <N: 1 E: BERT> with BERT [0:00:00.687485]\n",
      "\tf1 0.7624 acc 0.7998\n",
      "Validating task trofi\n",
      "Test EdgeProbingTask <N: 1 E: BERT-Large> with BERT-Large [0:00:01.023407]\n",
      "\tf1 0.7181 acc 0.7495\n",
      "Validating task trofi\n",
      "Test EdgeProbingTask <N: 1 E: GPT2> with GPT2 [0:00:00.682812]\n",
      "\tf1 0.6675 acc 0.7024\n"
     ]
    }
   ],
   "source": [
    "setup_test(task=\"trofi\",\n",
    "           classes=1,\n",
    "           file=\"model-trofi-08Dec19-08-24.pt\", \n",
    "           embedder=\"BERT\")\n",
    "\n",
    "setup_test(task=\"trofi\",\n",
    "           classes=1,\n",
    "           file=\"model-trofi-08Dec19-09-09.pt\", \n",
    "           embedder=\"BERTL\")\n",
    "\n",
    "setup_test(task=\"trofi\",\n",
    "           classes=1,\n",
    "           file=\"model-trofi-08Dec19-10-17.pt\", \n",
    "           embedder=\"GPT2\")"
   ]
  },
  {
   "cell_type": "markdown",
   "metadata": {},
   "source": [
    "## DPR"
   ]
  },
  {
   "cell_type": "code",
   "execution_count": 7,
   "metadata": {},
   "outputs": [
    {
     "name": "stdout",
     "output_type": "stream",
     "text": [
      "Validating task dpr\n",
      "Test EdgeProbingTask <N: 1 E: BERT> with BERT [0:00:00.513643]\n",
      "\tf1 0.6519 acc 0.5142\n",
      "Validating task dpr\n",
      "Test EdgeProbingTask <N: 1 E: BERT-Large> with BERT-Large [0:00:00.856726]\n",
      "\tf1 0.613 acc 0.5401\n",
      "Validating task dpr\n",
      "Test EdgeProbingTask <N: 1 E: GPT2> with GPT2 [0:00:00.638237]\n",
      "\tf1 0.5369 acc 0.5142\n"
     ]
    }
   ],
   "source": [
    "setup_test(task=\"dpr\",\n",
    "           classes=1,\n",
    "           file=\"model-dpr-08Dec19-08-29.pt\", \n",
    "           embedder=\"BERT\")\n",
    "\n",
    "setup_test(task=\"dpr\",\n",
    "           classes=1,\n",
    "           file=\"model-dpr-08Dec19-09-14.pt\", \n",
    "           embedder=\"BERTL\")\n",
    "\n",
    "setup_test(task=\"dpr\",\n",
    "           classes=1,\n",
    "           file=\"model-dpr-08Dec19-10-30.pt\", \n",
    "           embedder=\"GPT2\")"
   ]
  },
  {
   "cell_type": "markdown",
   "metadata": {},
   "source": [
    "## Metonymy"
   ]
  },
  {
   "cell_type": "code",
   "execution_count": 15,
   "metadata": {},
   "outputs": [
    {
     "name": "stdout",
     "output_type": "stream",
     "text": [
      "Validating task metonymy\n",
      "Test EdgeProbingTask <N: 1 E: BERT> with BERT [0:00:00.749660]\n",
      "\tf1 0.6508 acc 0.8453\n",
      "Validating task metonymy\n",
      "Test EdgeProbingTask <N: 1 E: BERT-Large> with BERT-Large [0:00:00.933254]\n",
      "\tf1 0.6008 acc 0.8544\n",
      "Validating task metonymy\n",
      "Test EdgeProbingTask <N: 1 E: GPT2> with GPT2 [0:00:00.756638]\n",
      "\tf1 0.5138 acc 0.7613\n"
     ]
    }
   ],
   "source": [
    "setup_test(task=\"metonymy\",\n",
    "           classes=1,\n",
    "           file=\"model-metonymy-08Dec19-08-43.pt\", \n",
    "           embedder=\"BERT\")\n",
    "\n",
    "setup_test(task=\"metonymy\",\n",
    "           classes=1,\n",
    "           file=\"model-metonymy-08Dec19-10-06.pt\", \n",
    "           embedder=\"BERTL\")\n",
    "\n",
    "setup_test(task=\"metonymy\",\n",
    "           classes=1,\n",
    "           file=\"model-metonymy-08Dec19-12-08.pt\", \n",
    "           embedder=\"GPT2\")"
   ]
  },
  {
   "cell_type": "markdown",
   "metadata": {},
   "source": [
    "## Progress"
   ]
  },
  {
   "cell_type": "code",
   "execution_count": 9,
   "metadata": {},
   "outputs": [],
   "source": [
    "progress = {\"trofi\": \"epnl/output/history-08Dec19-10-18.json\",\n",
    "            \"dpr\": \"epnl/output/history-08Dec19-10-30.json\"}\n",
    "#             \"metonymy\": \"epnl/output/output-06Dec19-17-43.json\"}\n",
    "\n",
    "progress_reports = pd.DataFrame()\n",
    "\n",
    "for s in progress:\n",
    "    report = pd.read_json(progress[s])\n",
    "    report[\"data\"] = s\n",
    "    \n",
    "    progress_reports = pd.concat([progress_reports, report], axis=0, sort=False)"
   ]
  },
  {
   "cell_type": "code",
   "execution_count": 14,
   "metadata": {},
   "outputs": [
    {
     "data": {
      "image/png": "[encoded data removed]",
      "text/plain": [
       "<Figure size 432x288 with 1 Axes>"
      ]
     },
     "metadata": {
      "needs_background": "light"
     },
     "output_type": "display_data"
    }
   ],
   "source": [
    "for s in progress:\n",
    "    d = progress_reports.loc[progress_reports[\"data\"] == s, :]\n",
    "    plt.plot(d.loc[d[\"set\"] == \"train\", \"epoch\"]+1, \n",
    "             d.loc[d[\"set\"] == \"train\", \"loss\"],\n",
    "             label = s)\n",
    "    \n",
    "plt.legend();"
   ]
  },
  {
   "cell_type": "code",
   "execution_count": null,
   "metadata": {},
   "outputs": [],
   "source": []
  }
 ],
 "metadata": {
  "kernelspec": {
   "display_name": "epnl",
   "language": "python",
   "name": "epnl"
  },
  "language_info": {
   "codemirror_mode": {
    "name": "ipython",
    "version": 3
   },
   "file_extension": ".py",
   "mimetype": "text/x-python",
   "name": "python",
   "nbconvert_exporter": "python",
   "pygments_lexer": "ipython3",
   "version": "3.7.5"
  }
 },
 "nbformat": 4,
 "nbformat_minor": 2
}
